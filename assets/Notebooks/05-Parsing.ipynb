{
 "cells": [
  {
   "cell_type": "markdown",
   "metadata": {},
   "source": [
    "## Parse the mapped read-ends"
   ]
  },
  {
   "cell_type": "markdown",
   "metadata": {},
   "source": [
    "__running time__: < 5 min\n",
    "\n",
    "In this step of the pipeline we read each mapped read-end in the map files and extract the ones that are uniquely mapped.\n",
    "\n",
    "For this step we use the `tadbit parse` tool and the fasta file used to generate the GEM index:"
   ]
  },
  {
   "cell_type": "code",
   "execution_count": null,
   "metadata": {},
   "outputs": [],
   "source": [
    "%%bash\n",
    "\n",
    "tadbit parse -w ../results/PSC_rep1 --genome ../refGenome/mm39_chr3.fa"
   ]
  },
  {
   "cell_type": "markdown",
   "metadata": {},
   "source": [
    "The output of the tool gives us some statistics of uniquely mapped reads on each read-end and the number of times that due to the split of the fragment-based strategy we are able to find multiple parts of the genome in a initial sequenced read."
   ]
  },
  {
   "cell_type": "code",
   "execution_count": null,
   "metadata": {},
   "outputs": [],
   "source": [
    "%%bash\n",
    "\n",
    "tadbit describe -w ../results/PSC_rep1 -t 5"
   ]
  },
  {
   "cell_type": "markdown",
   "metadata": {},
   "source": [
    "The result of the command is stored in two separate tab-separated-values (tsv) files in the working directory under the `02_parsed_reads` subfolder that will contain the essential information of each read-end:"
   ]
  },
  {
   "cell_type": "code",
   "execution_count": null,
   "metadata": {},
   "outputs": [],
   "source": [
    "%%bash\n",
    "\n",
    "ls ../results/PSC_rep1/02_parsed_reads/"
   ]
  },
  {
   "cell_type": "code",
   "execution_count": null,
   "metadata": {},
   "outputs": [],
   "source": [
    "%%bash\n",
    "\n",
    "head ../results/PSC_rep1/02_parsed_reads/PSC_rep1_r1_ff973af7de.tsv"
   ]
  },
  {
   "cell_type": "markdown",
   "metadata": {},
   "source": [
    "Each tsv file contains:\n",
    "\n",
    "1. Extended sequence identifier of the read. The extended identifier coincides with the identifier in the FASTQ file if the sequence maps to a single region of the genome. As a result of the fragment based mapping strategy it could be that a sequence in the FASTQ file is split and each part maps to a different region of the genome. In those cases the extended identifier is composed by the original identifier and a running number that distinguishes each split fragment.\n",
    "2. Chromosome.\n",
    "3. Start position of the mapped read.\n",
    "4. Strand\n",
    "5. Length of the sequence\n",
    "6. Position of the left flanking restriction enzyme site\n",
    "7. Position of the right flanking restriction enzyme site\n",
    "\n",
    "  \n",
    "This information will be used to filter the reads and, finally, to construct the interaction matrix."
   ]
  }
 ],
 "metadata": {
  "hide_input": false,
  "kernelspec": {
   "display_name": "Python 3 (ipykernel)",
   "language": "python",
   "name": "python3"
  },
  "language_info": {
   "codemirror_mode": {
    "name": "ipython",
    "version": 3
   },
   "file_extension": ".py",
   "mimetype": "text/x-python",
   "name": "python",
   "nbconvert_exporter": "python",
   "pygments_lexer": "ipython3",
   "version": "3.7.12"
  },
  "toc": {
   "base_numbering": 1,
   "nav_menu": {},
   "number_sections": false,
   "sideBar": true,
   "skip_h1_title": false,
   "title_cell": "Table of Contents",
   "title_sidebar": "Contents",
   "toc_cell": false,
   "toc_position": {
    "height": "968.264px",
    "left": "0px",
    "right": "1326.89px",
    "top": "109.722px",
    "width": "206px"
   },
   "toc_section_display": "block",
   "toc_window_display": true
  }
 },
 "nbformat": 4,
 "nbformat_minor": 1
}
