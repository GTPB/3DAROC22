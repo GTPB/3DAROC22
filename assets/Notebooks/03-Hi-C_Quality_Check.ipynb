{
 "cells": [
  {
   "cell_type": "markdown",
   "metadata": {},
   "source": [
    "## Creation of working directories"
   ]
  },
  {
   "cell_type": "markdown",
   "metadata": {},
   "source": [
    "__running time__: < 2 min"
   ]
  },
  {
   "cell_type": "markdown",
   "metadata": {},
   "source": [
    "TADbit tools is designed to centralize the analysis of one experiment in a single file directory referred to as working directory. To maintain reproducibility and traceability the working directory contains a unified folder structure.\n",
    "\n",
    "We will create out working directory inside the _results_ folder:"
   ]
  },
  {
   "cell_type": "code",
   "execution_count": null,
   "metadata": {},
   "outputs": [],
   "source": [
    "%%bash\n",
    "\n",
    "mkdir -p ../results"
   ]
  },
  {
   "cell_type": "markdown",
   "metadata": {},
   "source": [
    "## Check restriction-enzyme used"
   ]
  },
  {
   "cell_type": "markdown",
   "metadata": {},
   "source": [
    "One of the most important factor to analyze Hi-C datasets is the restriction enzyme used in the experiment. Although it should be known before conducting any analysis it is a good initial test to use TADbit to check for it and confirm that the restriction enzyme in the FASTQ files is what we expect from the experiment. We will use `tadbit map` with `CHECK` the `--renz` parameter."
   ]
  },
  {
   "cell_type": "code",
   "execution_count": null,
   "metadata": {},
   "outputs": [],
   "source": [
    "%%bash\n",
    "\n",
    "tadbit map -w ../results/PSC_rep1 \\\n",
    "    --fastq ../FASTQs/PSC/PSC_HiC_rep1_subset_chr3_1.fastq.gz \\\n",
    "    --read 1 \\\n",
    "    --index ../refGenome/mm39_chr3.gem \\\n",
    "    --renz CHECK"
   ]
  },
  {
   "cell_type": "markdown",
   "metadata": {},
   "source": [
    "TADbit uses the first 100000 reads to identify the most probable restriction enzyme used in the experiment. In our case the digested site found is GATC which corresponds to our expected MboI restriction enzyme."
   ]
  },
  {
   "cell_type": "markdown",
   "metadata": {},
   "source": [
    "## Hi-C quality check pre-mapping"
   ]
  },
  {
   "cell_type": "markdown",
   "metadata": {},
   "source": [
    "In order to quickly assess the quality of the HiC experiment (before mapping), and given that we know the restriction enzyme used, we can check the proportion of reads with ligation sites as well as the number of reads starting by a cut-site.\n",
    "\n",
    "These numbers will give us a first hint on the __efficiencies of two critical steps in the HiC experiment, the digestion and the ligation.__\n",
    "\n",
    "We will use `tadbit map` again with the option `--skip_mapping` to generate quality plots based on the first 100000 reads:"
   ]
  },
  {
   "cell_type": "code",
   "execution_count": null,
   "metadata": {
    "scrolled": true
   },
   "outputs": [],
   "source": [
    "%%bash\n",
    "\n",
    "tadbit map -w ../results/PSC_rep1 \\\n",
    "    --fastq ../FASTQs/PSC/PSC_HiC_rep1_subset_chr3_1.fastq.gz \\\n",
    "    --read 1 \\\n",
    "    --index ../refGenome/mm39_chr3.gem \\\n",
    "    --renz MboI \\\n",
    "    --skip_mapping"
   ]
  },
  {
   "cell_type": "markdown",
   "metadata": {},
   "source": [
    "The command has generated a plot inside the working directory as reported in the output. We will display the plot in the notebook:"
   ]
  },
  {
   "cell_type": "code",
   "execution_count": null,
   "metadata": {},
   "outputs": [],
   "source": [
    "%%bash\n",
    "\n",
    "ls ../results/PSC_rep1/"
   ]
  },
  {
   "cell_type": "code",
   "execution_count": null,
   "metadata": {},
   "outputs": [],
   "source": [
    "from IPython.display import Image\n",
    "Image(filename='../results/PSC_rep1/PSC_HiC_rep1_subset_chr3_1.fastq.gz_MboI_1f9a0a58f0.png') "
   ]
  },
  {
   "cell_type": "markdown",
   "metadata": {},
   "source": [
    "The plot on the top represents the typical per nucleotide quality profile of NGS reads, with, in addition, the proportion of `N` found at each position. \n",
    "\n",
    "The second plot, is specific to Hi-C experiments. Given a restriction enzyme the function searches for the presence of ligation sites and of undigested restriction enzyme sites. Depending on the enzyme used the function can differentiate between dangling-ends and undigested sites.\n",
    "\n",
    "From these proportions some quality statistics can be inferred before mapping:\n",
    "- The __PHRED score__ and the __number of unidentified nucleotides__ (Ns) in the read sequence, which are routinely computed to address the quality of high-throughput sequencing experiments.\n",
    "- The numbers of __undigested and unligated RE sites per-nucleotide__ along the read to assess the quality of the Hi-C experiment.\n",
    "- The overall __percentage of digested sites__, which relates directly to the RE efficiency.\n",
    "- The __percentage of non-ligated digested__ (dangling-ends), which relates to the ligation efficiency.\n",
    "- The __percentage of read-ends with a ligation site__, which is negatively correlated with the percentage of dangling-ends."
   ]
  }
 ],
 "metadata": {
  "hide_input": false,
  "kernelspec": {
   "display_name": "Python 3 (ipykernel)",
   "language": "python",
   "name": "python3"
  },
  "language_info": {
   "codemirror_mode": {
    "name": "ipython",
    "version": 3
   },
   "file_extension": ".py",
   "mimetype": "text/x-python",
   "name": "python",
   "nbconvert_exporter": "python",
   "pygments_lexer": "ipython3",
   "version": "3.7.12"
  },
  "toc": {
   "base_numbering": 1,
   "nav_menu": {},
   "number_sections": false,
   "sideBar": true,
   "skip_h1_title": false,
   "title_cell": "Table of Contents",
   "title_sidebar": "Contents",
   "toc_cell": false,
   "toc_position": {},
   "toc_section_display": "block",
   "toc_window_display": true
  }
 },
 "nbformat": 4,
 "nbformat_minor": 1
}
